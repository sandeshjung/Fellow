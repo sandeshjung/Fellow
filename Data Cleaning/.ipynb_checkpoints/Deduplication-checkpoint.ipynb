{
 "cells": [
  {
   "cell_type": "code",
   "execution_count": 1,
   "id": "0e8c861f",
   "metadata": {},
   "outputs": [
    {
     "name": "stdout",
     "output_type": "stream",
     "text": [
      "['Fusemachines  INC',\n",
      " 'FUSEMACHINES      NEPAL, INC.',\n",
      " 'FUSEMACHINES',\n",
      " 'fusemachines',\n",
      " 'fuse org.',\n",
      " 'fuse organization']\n"
     ]
    }
   ],
   "source": [
    "import re\n",
    "import pprint\n",
    "company_name_raw = [\n",
    "                'Fusemachines  INC',\n",
    "                'FUSEMACHINES      NEPAL, INC.',\n",
    "                'FUSEMACHINES',\n",
    "                'fusemachines',\n",
    "                'fuse org.',\n",
    "                'fuse organization'\n",
    "                ]\n",
    "pprint.pprint(company_name_raw)"
   ]
  },
  {
   "cell_type": "code",
   "execution_count": 2,
   "id": "db9a0f8a",
   "metadata": {},
   "outputs": [
    {
     "name": "stdout",
     "output_type": "stream",
     "text": [
      "['fusemachines  inc',\n",
      " 'fusemachines      nepal, inc.',\n",
      " 'fusemachines',\n",
      " 'fusemachines',\n",
      " 'fuse org.',\n",
      " 'fuse organization']\n"
     ]
    }
   ],
   "source": [
    "company_names_lower = [c.lower() for c in company_name_raw]\n",
    "pprint.pprint(company_names_lower)"
   ]
  },
  {
   "cell_type": "code",
   "execution_count": 4,
   "id": "bb60828b",
   "metadata": {},
   "outputs": [
    {
     "name": "stdout",
     "output_type": "stream",
     "text": [
      "['fusemachines  inc',\n",
      " 'fusemachines      nepal  inc ',\n",
      " 'fusemachines',\n",
      " 'fusemachines',\n",
      " 'fuse org ',\n",
      " 'fuse organization']\n"
     ]
    }
   ],
   "source": [
    "irrelevent_seperators = re.compile(r'[^a-z0-9\\s]')\n",
    "company_names_rel=[irrelevent_seperators.sub(' ',c)for c in company_names_lower]\n",
    "pprint.pprint(company_names_rel)"
   ]
  },
  {
   "cell_type": "code",
   "execution_count": 5,
   "id": "5c351752",
   "metadata": {},
   "outputs": [
    {
     "name": "stdout",
     "output_type": "stream",
     "text": [
      "['fusemachines inc',\n",
      " 'fusemachines nepal inc',\n",
      " 'fusemachines',\n",
      " 'fusemachines',\n",
      " 'fuse org',\n",
      " 'fuse organization']\n"
     ]
    }
   ],
   "source": [
    "multispace_regex = re.compile(r'\\s\\s+')\n",
    "company_names_multispace = [multispace_regex.sub(' ',c).strip() for c in company_names_rel]\n",
    "pprint.pprint(company_names_multispace)"
   ]
  },
  {
   "cell_type": "code",
   "execution_count": 6,
   "id": "1f9dbb89",
   "metadata": {},
   "outputs": [],
   "source": [
    "business_stopwords = {  \n",
    "    'nepal',\n",
    "    'inc',\n",
    "    'company',\n",
    "    'ltd',\n",
    "    'pvt',\n",
    "    'incorporated',\n",
    "    'co',\n",
    "    'organization',\n",
    "    'org'\n",
    "    #'...'\n",
    "}"
   ]
  },
  {
   "cell_type": "code",
   "execution_count": 8,
   "id": "75050a3d",
   "metadata": {},
   "outputs": [
    {
     "name": "stdout",
     "output_type": "stream",
     "text": [
      "['fusemachines', 'fusemachines', 'fusemachines', 'fusemachines', 'fuse', 'fuse']\n"
     ]
    }
   ],
   "source": [
    "company_names_clean = [\n",
    "    ' '.join([c_part for c_part in c.split() if c_part not in business_stopwords])\n",
    "    for c in company_names_multispace\n",
    "]\n",
    "pprint.pprint(company_names_clean)"
   ]
  },
  {
   "cell_type": "code",
   "execution_count": 9,
   "id": "318b83a3",
   "metadata": {},
   "outputs": [
    {
     "name": "stdout",
     "output_type": "stream",
     "text": [
      "Collecting probablepeople\n",
      "  Downloading probablepeople-0.5.4-py2.py3-none-any.whl (888 kB)\n",
      "Collecting python-crfsuite>=0.8\n",
      "  Downloading python_crfsuite-0.9.8-cp39-cp39-win_amd64.whl (158 kB)\n",
      "Requirement already satisfied: future>=0.14 in c:\\users\\sande\\anaconda3\\lib\\site-packages (from probablepeople) (0.18.2)\n",
      "Collecting doublemetaphone\n",
      "  Downloading DoubleMetaphone-1.1-cp39-cp39-win_amd64.whl (28 kB)\n",
      "Collecting probableparsing\n",
      "  Downloading probableparsing-0.0.1-py2.py3-none-any.whl (3.1 kB)\n",
      "Installing collected packages: python-crfsuite, probableparsing, doublemetaphone, probablepeople\n",
      "Successfully installed doublemetaphone-1.1 probableparsing-0.0.1 probablepeople-0.5.4 python-crfsuite-0.9.8\n"
     ]
    }
   ],
   "source": [
    "!pip install probablepeople\n",
    "import probablepeople as pp"
   ]
  },
  {
   "cell_type": "code",
   "execution_count": 10,
   "id": "5ddc0d56",
   "metadata": {},
   "outputs": [
    {
     "data": {
      "text/plain": [
       "[('FUSEMACHINES', 'CorporationName'),\n",
       " ('NEPAL,', 'CorporationName'),\n",
       " ('INC.', 'CorporationLegalType')]"
      ]
     },
     "execution_count": 10,
     "metadata": {},
     "output_type": "execute_result"
    }
   ],
   "source": [
    "pp.parse('FUSEMACHINES      NEPAL, INC.')"
   ]
  },
  {
   "cell_type": "code",
   "execution_count": 11,
   "id": "4038b8e0",
   "metadata": {},
   "outputs": [
    {
     "name": "stdout",
     "output_type": "stream",
     "text": [
      "[['Fusemachines'],\n",
      " ['FUSEMACHINES', 'NEPAL,'],\n",
      " ['FUSEMACHINES'],\n",
      " ['fusemachines'],\n",
      " ['fuse', 'org.'],\n",
      " ['fuse', 'organization']]\n"
     ]
    }
   ],
   "source": [
    "company_names_alternative_1=[\n",
    "    [\n",
    "        parsed_value\n",
    "        for parsed_value,parsed_type\n",
    "        in pp.parse(c)\n",
    "        if parsed_type == 'CorporationName'\n",
    "    ]\n",
    "    for c in company_name_raw\n",
    "]\n",
    "pprint.pprint(company_names_alternative_1)"
   ]
  },
  {
   "cell_type": "code",
   "execution_count": 12,
   "id": "52db41d7",
   "metadata": {},
   "outputs": [
    {
     "name": "stdout",
     "output_type": "stream",
     "text": [
      "['800/506-3873',\n",
      " '1-800-506-3873',\n",
      " '800-506/3873',\n",
      " '800/506-3873',\n",
      " '213/665-1661',\n",
      " '213/665-1661']\n"
     ]
    }
   ],
   "source": [
    "#correct phone\n",
    "phone_numbers_raw = [\n",
    "                 '800/506-3873',\\\n",
    "                 '1-800-506-3873',\\\n",
    "                 '800-506/3873',\\\n",
    "                 '800/506-3873',\\\n",
    "                 '213/665-1661',\\\n",
    "                 '213/665-1661'\n",
    "                 ]\n",
    "pprint.pprint(phone_numbers_raw)"
   ]
  },
  {
   "cell_type": "code",
   "execution_count": 13,
   "id": "1bfad70f",
   "metadata": {},
   "outputs": [
    {
     "name": "stdout",
     "output_type": "stream",
     "text": [
      "Collecting phonenumbers\n",
      "  Downloading phonenumbers-8.13.4-py2.py3-none-any.whl (2.6 MB)\n",
      "Installing collected packages: phonenumbers\n",
      "Successfully installed phonenumbers-8.13.4\n"
     ]
    }
   ],
   "source": [
    "!pip install phonenumbers\n",
    "import phonenumbers"
   ]
  },
  {
   "cell_type": "code",
   "execution_count": 14,
   "id": "844db28b",
   "metadata": {},
   "outputs": [],
   "source": [
    "clean_ph = list()\n",
    "for i in phone_numbers_raw:\n",
    "    clean_ph.append(phonenumbers.format_number(phonenumbers.parse(i,'US'),\\\n",
    "                                              num_format = phonenumbers.PhoneNumberFormat.E164))"
   ]
  },
  {
   "cell_type": "code",
   "execution_count": 15,
   "id": "17600402",
   "metadata": {},
   "outputs": [
    {
     "data": {
      "text/plain": [
       "['+18005063873',\n",
       " '+18005063873',\n",
       " '+18005063873',\n",
       " '+18005063873',\n",
       " '+12136651661',\n",
       " '+12136651661']"
      ]
     },
     "execution_count": 15,
     "metadata": {},
     "output_type": "execute_result"
    }
   ],
   "source": [
    "clean_ph"
   ]
  },
  {
   "cell_type": "code",
   "execution_count": 16,
   "id": "9a03cbab",
   "metadata": {},
   "outputs": [],
   "source": [
    "from phonenumbers import timezone"
   ]
  },
  {
   "cell_type": "code",
   "execution_count": 17,
   "id": "33c9a909",
   "metadata": {},
   "outputs": [
    {
     "data": {
      "text/plain": [
       "('Asia/Katmandu',)"
      ]
     },
     "execution_count": 17,
     "metadata": {},
     "output_type": "execute_result"
    }
   ],
   "source": [
    "timezone.time_zones_for_number(phonenumbers.parse('+977-1-4168530',\"NP\"))"
   ]
  },
  {
   "cell_type": "code",
   "execution_count": 18,
   "id": "4ff0f83a",
   "metadata": {},
   "outputs": [
    {
     "data": {
      "text/html": [
       "<div>\n",
       "<style scoped>\n",
       "    .dataframe tbody tr th:only-of-type {\n",
       "        vertical-align: middle;\n",
       "    }\n",
       "\n",
       "    .dataframe tbody tr th {\n",
       "        vertical-align: top;\n",
       "    }\n",
       "\n",
       "    .dataframe thead th {\n",
       "        text-align: right;\n",
       "    }\n",
       "</style>\n",
       "<table border=\"1\" class=\"dataframe\">\n",
       "  <thead>\n",
       "    <tr style=\"text-align: right;\">\n",
       "      <th></th>\n",
       "      <th>company</th>\n",
       "      <th>phone number</th>\n",
       "    </tr>\n",
       "  </thead>\n",
       "  <tbody>\n",
       "    <tr>\n",
       "      <th>0</th>\n",
       "      <td>Fusemachines  INC</td>\n",
       "      <td>800/506-3873</td>\n",
       "    </tr>\n",
       "    <tr>\n",
       "      <th>1</th>\n",
       "      <td>FUSEMACHINES      NEPAL, INC.</td>\n",
       "      <td>1-800-506-3873</td>\n",
       "    </tr>\n",
       "    <tr>\n",
       "      <th>2</th>\n",
       "      <td>FUSEMACHINES</td>\n",
       "      <td>800-506/3873</td>\n",
       "    </tr>\n",
       "    <tr>\n",
       "      <th>3</th>\n",
       "      <td>fusemachines</td>\n",
       "      <td>800/506-3873</td>\n",
       "    </tr>\n",
       "    <tr>\n",
       "      <th>4</th>\n",
       "      <td>fuse org.</td>\n",
       "      <td>213/665-1661</td>\n",
       "    </tr>\n",
       "    <tr>\n",
       "      <th>5</th>\n",
       "      <td>fuse organization</td>\n",
       "      <td>213/665-1661</td>\n",
       "    </tr>\n",
       "  </tbody>\n",
       "</table>\n",
       "</div>"
      ],
      "text/plain": [
       "                         company    phone number\n",
       "0              Fusemachines  INC    800/506-3873\n",
       "1  FUSEMACHINES      NEPAL, INC.  1-800-506-3873\n",
       "2                   FUSEMACHINES    800-506/3873\n",
       "3                   fusemachines    800/506-3873\n",
       "4                      fuse org.    213/665-1661\n",
       "5              fuse organization    213/665-1661"
      ]
     },
     "execution_count": 18,
     "metadata": {},
     "output_type": "execute_result"
    }
   ],
   "source": [
    "import pandas as pd \n",
    "raw_data = pd.DataFrame({'company':company_name_raw, 'phone number': phone_numbers_raw})\n",
    "raw_data"
   ]
  },
  {
   "cell_type": "code",
   "execution_count": 19,
   "id": "7d1044c8",
   "metadata": {},
   "outputs": [
    {
     "data": {
      "text/html": [
       "<div>\n",
       "<style scoped>\n",
       "    .dataframe tbody tr th:only-of-type {\n",
       "        vertical-align: middle;\n",
       "    }\n",
       "\n",
       "    .dataframe tbody tr th {\n",
       "        vertical-align: top;\n",
       "    }\n",
       "\n",
       "    .dataframe thead th {\n",
       "        text-align: right;\n",
       "    }\n",
       "</style>\n",
       "<table border=\"1\" class=\"dataframe\">\n",
       "  <thead>\n",
       "    <tr style=\"text-align: right;\">\n",
       "      <th></th>\n",
       "      <th>company</th>\n",
       "      <th>phone number</th>\n",
       "    </tr>\n",
       "  </thead>\n",
       "  <tbody>\n",
       "    <tr>\n",
       "      <th>0</th>\n",
       "      <td>fusemachines</td>\n",
       "      <td>+18005063873</td>\n",
       "    </tr>\n",
       "    <tr>\n",
       "      <th>1</th>\n",
       "      <td>fusemachines</td>\n",
       "      <td>+18005063873</td>\n",
       "    </tr>\n",
       "    <tr>\n",
       "      <th>2</th>\n",
       "      <td>fusemachines</td>\n",
       "      <td>+18005063873</td>\n",
       "    </tr>\n",
       "    <tr>\n",
       "      <th>3</th>\n",
       "      <td>fusemachines</td>\n",
       "      <td>+18005063873</td>\n",
       "    </tr>\n",
       "    <tr>\n",
       "      <th>4</th>\n",
       "      <td>fuse</td>\n",
       "      <td>+12136651661</td>\n",
       "    </tr>\n",
       "    <tr>\n",
       "      <th>5</th>\n",
       "      <td>fuse</td>\n",
       "      <td>+12136651661</td>\n",
       "    </tr>\n",
       "  </tbody>\n",
       "</table>\n",
       "</div>"
      ],
      "text/plain": [
       "        company  phone number\n",
       "0  fusemachines  +18005063873\n",
       "1  fusemachines  +18005063873\n",
       "2  fusemachines  +18005063873\n",
       "3  fusemachines  +18005063873\n",
       "4          fuse  +12136651661\n",
       "5          fuse  +12136651661"
      ]
     },
     "execution_count": 19,
     "metadata": {},
     "output_type": "execute_result"
    }
   ],
   "source": [
    "clean_data = pd.DataFrame({'company':company_names_clean,'phone number':clean_ph})\n",
    "clean_data"
   ]
  },
  {
   "cell_type": "code",
   "execution_count": 20,
   "id": "4dbfd949",
   "metadata": {},
   "outputs": [
    {
     "data": {
      "text/html": [
       "<div>\n",
       "<style scoped>\n",
       "    .dataframe tbody tr th:only-of-type {\n",
       "        vertical-align: middle;\n",
       "    }\n",
       "\n",
       "    .dataframe tbody tr th {\n",
       "        vertical-align: top;\n",
       "    }\n",
       "\n",
       "    .dataframe thead th {\n",
       "        text-align: right;\n",
       "    }\n",
       "</style>\n",
       "<table border=\"1\" class=\"dataframe\">\n",
       "  <thead>\n",
       "    <tr style=\"text-align: right;\">\n",
       "      <th></th>\n",
       "      <th>company</th>\n",
       "      <th>phone number</th>\n",
       "    </tr>\n",
       "  </thead>\n",
       "  <tbody>\n",
       "    <tr>\n",
       "      <th>0</th>\n",
       "      <td>fusemachines</td>\n",
       "      <td>+18005063873</td>\n",
       "    </tr>\n",
       "    <tr>\n",
       "      <th>4</th>\n",
       "      <td>fuse</td>\n",
       "      <td>+12136651661</td>\n",
       "    </tr>\n",
       "  </tbody>\n",
       "</table>\n",
       "</div>"
      ],
      "text/plain": [
       "        company  phone number\n",
       "0  fusemachines  +18005063873\n",
       "4          fuse  +12136651661"
      ]
     },
     "execution_count": 20,
     "metadata": {},
     "output_type": "execute_result"
    }
   ],
   "source": [
    "clean_data.drop_duplicates()"
   ]
  },
  {
   "cell_type": "code",
   "execution_count": 21,
   "id": "ebe80c49",
   "metadata": {},
   "outputs": [
    {
     "data": {
      "text/html": [
       "<div>\n",
       "<style scoped>\n",
       "    .dataframe tbody tr th:only-of-type {\n",
       "        vertical-align: middle;\n",
       "    }\n",
       "\n",
       "    .dataframe tbody tr th {\n",
       "        vertical-align: top;\n",
       "    }\n",
       "\n",
       "    .dataframe thead th {\n",
       "        text-align: right;\n",
       "    }\n",
       "</style>\n",
       "<table border=\"1\" class=\"dataframe\">\n",
       "  <thead>\n",
       "    <tr style=\"text-align: right;\">\n",
       "      <th></th>\n",
       "      <th>f1</th>\n",
       "      <th>f2</th>\n",
       "      <th>f3</th>\n",
       "      <th>f4</th>\n",
       "      <th>f5</th>\n",
       "    </tr>\n",
       "  </thead>\n",
       "  <tbody>\n",
       "    <tr>\n",
       "      <th>0</th>\n",
       "      <td>10.50</td>\n",
       "      <td>M1</td>\n",
       "      <td>C3</td>\n",
       "      <td>5.0</td>\n",
       "      <td>5.0</td>\n",
       "    </tr>\n",
       "    <tr>\n",
       "      <th>1</th>\n",
       "      <td>8.30</td>\n",
       "      <td>M2</td>\n",
       "      <td>A3</td>\n",
       "      <td>6.1</td>\n",
       "      <td>6.1</td>\n",
       "    </tr>\n",
       "    <tr>\n",
       "      <th>2</th>\n",
       "      <td>8.00</td>\n",
       "      <td>M1</td>\n",
       "      <td>C3</td>\n",
       "      <td>2.5</td>\n",
       "      <td>2.5</td>\n",
       "    </tr>\n",
       "    <tr>\n",
       "      <th>3</th>\n",
       "      <td>11.99</td>\n",
       "      <td>M3</td>\n",
       "      <td>B3</td>\n",
       "      <td>5.1</td>\n",
       "      <td>5.1</td>\n",
       "    </tr>\n",
       "  </tbody>\n",
       "</table>\n",
       "</div>"
      ],
      "text/plain": [
       "      f1  f2  f3   f4   f5\n",
       "0  10.50  M1  C3  5.0  5.0\n",
       "1   8.30  M2  A3  6.1  6.1\n",
       "2   8.00  M1  C3  2.5  2.5\n",
       "3  11.99  M3  B3  5.1  5.1"
      ]
     },
     "execution_count": 21,
     "metadata": {},
     "output_type": "execute_result"
    }
   ],
   "source": [
    "#common duplication\n",
    "import pandas as pd\n",
    "import numpy as np\n",
    "data = [\n",
    "    (10.5,\"M1\",'C3',5,5),\n",
    "    (8.3,\"M2\",'A3',6.1,6.1),\n",
    "    (8,\"M1\",'C3',2.5,2.5),\n",
    "    (11.99,\"M3\",'B3',5.1,5.1),\n",
    "]\n",
    "df = pd.DataFrame(data, columns=['f1', 'f2', 'f3','f4','f5'])\n",
    "df"
   ]
  },
  {
   "cell_type": "code",
   "execution_count": 22,
   "id": "d3e41187",
   "metadata": {},
   "outputs": [],
   "source": [
    "df = df.T.drop_duplicates().T"
   ]
  },
  {
   "cell_type": "code",
   "execution_count": 23,
   "id": "a1f5024d",
   "metadata": {},
   "outputs": [
    {
     "data": {
      "text/html": [
       "<div>\n",
       "<style scoped>\n",
       "    .dataframe tbody tr th:only-of-type {\n",
       "        vertical-align: middle;\n",
       "    }\n",
       "\n",
       "    .dataframe tbody tr th {\n",
       "        vertical-align: top;\n",
       "    }\n",
       "\n",
       "    .dataframe thead th {\n",
       "        text-align: right;\n",
       "    }\n",
       "</style>\n",
       "<table border=\"1\" class=\"dataframe\">\n",
       "  <thead>\n",
       "    <tr style=\"text-align: right;\">\n",
       "      <th></th>\n",
       "      <th>f1</th>\n",
       "      <th>f2</th>\n",
       "      <th>f3</th>\n",
       "      <th>f4</th>\n",
       "    </tr>\n",
       "  </thead>\n",
       "  <tbody>\n",
       "    <tr>\n",
       "      <th>0</th>\n",
       "      <td>10.5</td>\n",
       "      <td>M1</td>\n",
       "      <td>C3</td>\n",
       "      <td>5.0</td>\n",
       "    </tr>\n",
       "    <tr>\n",
       "      <th>1</th>\n",
       "      <td>8.3</td>\n",
       "      <td>M2</td>\n",
       "      <td>A3</td>\n",
       "      <td>6.1</td>\n",
       "    </tr>\n",
       "    <tr>\n",
       "      <th>2</th>\n",
       "      <td>8.0</td>\n",
       "      <td>M1</td>\n",
       "      <td>C3</td>\n",
       "      <td>2.5</td>\n",
       "    </tr>\n",
       "    <tr>\n",
       "      <th>3</th>\n",
       "      <td>11.99</td>\n",
       "      <td>M3</td>\n",
       "      <td>B3</td>\n",
       "      <td>5.1</td>\n",
       "    </tr>\n",
       "  </tbody>\n",
       "</table>\n",
       "</div>"
      ],
      "text/plain": [
       "      f1  f2  f3   f4\n",
       "0   10.5  M1  C3  5.0\n",
       "1    8.3  M2  A3  6.1\n",
       "2    8.0  M1  C3  2.5\n",
       "3  11.99  M3  B3  5.1"
      ]
     },
     "execution_count": 23,
     "metadata": {},
     "output_type": "execute_result"
    }
   ],
   "source": [
    "df"
   ]
  },
  {
   "cell_type": "code",
   "execution_count": 24,
   "id": "06e8e991",
   "metadata": {},
   "outputs": [],
   "source": [
    "df.f2 = df['f2'].factorize()[0]+1\n",
    "df.f3 = df['f3'].factorize()[0]+1"
   ]
  },
  {
   "cell_type": "code",
   "execution_count": 25,
   "id": "a3410adf",
   "metadata": {},
   "outputs": [
    {
     "data": {
      "text/html": [
       "<div>\n",
       "<style scoped>\n",
       "    .dataframe tbody tr th:only-of-type {\n",
       "        vertical-align: middle;\n",
       "    }\n",
       "\n",
       "    .dataframe tbody tr th {\n",
       "        vertical-align: top;\n",
       "    }\n",
       "\n",
       "    .dataframe thead th {\n",
       "        text-align: right;\n",
       "    }\n",
       "</style>\n",
       "<table border=\"1\" class=\"dataframe\">\n",
       "  <thead>\n",
       "    <tr style=\"text-align: right;\">\n",
       "      <th></th>\n",
       "      <th>f1</th>\n",
       "      <th>f2</th>\n",
       "      <th>f3</th>\n",
       "      <th>f4</th>\n",
       "    </tr>\n",
       "  </thead>\n",
       "  <tbody>\n",
       "    <tr>\n",
       "      <th>0</th>\n",
       "      <td>10.5</td>\n",
       "      <td>1</td>\n",
       "      <td>1</td>\n",
       "      <td>5.0</td>\n",
       "    </tr>\n",
       "    <tr>\n",
       "      <th>1</th>\n",
       "      <td>8.3</td>\n",
       "      <td>2</td>\n",
       "      <td>2</td>\n",
       "      <td>6.1</td>\n",
       "    </tr>\n",
       "    <tr>\n",
       "      <th>2</th>\n",
       "      <td>8.0</td>\n",
       "      <td>1</td>\n",
       "      <td>1</td>\n",
       "      <td>2.5</td>\n",
       "    </tr>\n",
       "    <tr>\n",
       "      <th>3</th>\n",
       "      <td>11.99</td>\n",
       "      <td>3</td>\n",
       "      <td>3</td>\n",
       "      <td>5.1</td>\n",
       "    </tr>\n",
       "  </tbody>\n",
       "</table>\n",
       "</div>"
      ],
      "text/plain": [
       "      f1  f2  f3   f4\n",
       "0   10.5   1   1  5.0\n",
       "1    8.3   2   2  6.1\n",
       "2    8.0   1   1  2.5\n",
       "3  11.99   3   3  5.1"
      ]
     },
     "execution_count": 25,
     "metadata": {},
     "output_type": "execute_result"
    }
   ],
   "source": [
    "df"
   ]
  },
  {
   "cell_type": "code",
   "execution_count": 26,
   "id": "89bf6512",
   "metadata": {},
   "outputs": [],
   "source": [
    "df = df.T.drop_duplicates().T"
   ]
  },
  {
   "cell_type": "code",
   "execution_count": 27,
   "id": "3d3bf3fe",
   "metadata": {},
   "outputs": [
    {
     "data": {
      "text/html": [
       "<div>\n",
       "<style scoped>\n",
       "    .dataframe tbody tr th:only-of-type {\n",
       "        vertical-align: middle;\n",
       "    }\n",
       "\n",
       "    .dataframe tbody tr th {\n",
       "        vertical-align: top;\n",
       "    }\n",
       "\n",
       "    .dataframe thead th {\n",
       "        text-align: right;\n",
       "    }\n",
       "</style>\n",
       "<table border=\"1\" class=\"dataframe\">\n",
       "  <thead>\n",
       "    <tr style=\"text-align: right;\">\n",
       "      <th></th>\n",
       "      <th>f1</th>\n",
       "      <th>f2</th>\n",
       "      <th>f4</th>\n",
       "    </tr>\n",
       "  </thead>\n",
       "  <tbody>\n",
       "    <tr>\n",
       "      <th>0</th>\n",
       "      <td>10.5</td>\n",
       "      <td>1</td>\n",
       "      <td>5.0</td>\n",
       "    </tr>\n",
       "    <tr>\n",
       "      <th>1</th>\n",
       "      <td>8.3</td>\n",
       "      <td>2</td>\n",
       "      <td>6.1</td>\n",
       "    </tr>\n",
       "    <tr>\n",
       "      <th>2</th>\n",
       "      <td>8.0</td>\n",
       "      <td>1</td>\n",
       "      <td>2.5</td>\n",
       "    </tr>\n",
       "    <tr>\n",
       "      <th>3</th>\n",
       "      <td>11.99</td>\n",
       "      <td>3</td>\n",
       "      <td>5.1</td>\n",
       "    </tr>\n",
       "  </tbody>\n",
       "</table>\n",
       "</div>"
      ],
      "text/plain": [
       "      f1 f2   f4\n",
       "0   10.5  1  5.0\n",
       "1    8.3  2  6.1\n",
       "2    8.0  1  2.5\n",
       "3  11.99  3  5.1"
      ]
     },
     "execution_count": 27,
     "metadata": {},
     "output_type": "execute_result"
    }
   ],
   "source": [
    "df"
   ]
  }
 ],
 "metadata": {
  "kernelspec": {
   "display_name": "Python 3 (ipykernel)",
   "language": "python",
   "name": "python3"
  },
  "language_info": {
   "codemirror_mode": {
    "name": "ipython",
    "version": 3
   },
   "file_extension": ".py",
   "mimetype": "text/x-python",
   "name": "python",
   "nbconvert_exporter": "python",
   "pygments_lexer": "ipython3",
   "version": "3.9.12"
  }
 },
 "nbformat": 4,
 "nbformat_minor": 5
}
