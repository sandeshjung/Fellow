{
 "cells": [
  {
   "cell_type": "code",
   "execution_count": 19,
   "id": "e5438e19",
   "metadata": {},
   "outputs": [],
   "source": [
    "import numpy as np \n",
    "import pandas as pd\n",
    "import matplotlib as mpl\n",
    "from matplotlib import pyplot as plt\n",
    "from IPython.display import display,HTML"
   ]
  },
  {
   "cell_type": "code",
   "execution_count": 20,
   "id": "9b5c9d0f",
   "metadata": {},
   "outputs": [
    {
     "data": {
      "text/html": [
       "<div>\n",
       "<style scoped>\n",
       "    .dataframe tbody tr th:only-of-type {\n",
       "        vertical-align: middle;\n",
       "    }\n",
       "\n",
       "    .dataframe tbody tr th {\n",
       "        vertical-align: top;\n",
       "    }\n",
       "\n",
       "    .dataframe thead th {\n",
       "        text-align: right;\n",
       "    }\n",
       "</style>\n",
       "<table border=\"1\" class=\"dataframe\">\n",
       "  <thead>\n",
       "    <tr style=\"text-align: right;\">\n",
       "      <th></th>\n",
       "      <th>CRIM</th>\n",
       "      <th>ZN</th>\n",
       "      <th>INDUS</th>\n",
       "      <th>CHAS</th>\n",
       "      <th>NOX</th>\n",
       "      <th>RM</th>\n",
       "      <th>AGE</th>\n",
       "      <th>DIS</th>\n",
       "      <th>RAD</th>\n",
       "      <th>TAX</th>\n",
       "      <th>PTRATIO</th>\n",
       "      <th>B</th>\n",
       "      <th>LSTAT</th>\n",
       "      <th>MEDV</th>\n",
       "    </tr>\n",
       "  </thead>\n",
       "  <tbody>\n",
       "    <tr>\n",
       "      <th>0</th>\n",
       "      <td>0.01</td>\n",
       "      <td>18.00</td>\n",
       "      <td>2.31</td>\n",
       "      <td>0.00</td>\n",
       "      <td>0.54</td>\n",
       "      <td>6.58</td>\n",
       "      <td>65.20</td>\n",
       "      <td>4.09</td>\n",
       "      <td>1.00</td>\n",
       "      <td>296.00</td>\n",
       "      <td>15.30</td>\n",
       "      <td>396.90</td>\n",
       "      <td>4.98</td>\n",
       "      <td>24.00</td>\n",
       "    </tr>\n",
       "    <tr>\n",
       "      <th>1</th>\n",
       "      <td>0.03</td>\n",
       "      <td>0.00</td>\n",
       "      <td>7.07</td>\n",
       "      <td>0.00</td>\n",
       "      <td>0.47</td>\n",
       "      <td>6.42</td>\n",
       "      <td>78.90</td>\n",
       "      <td>4.97</td>\n",
       "      <td>2.00</td>\n",
       "      <td>242.00</td>\n",
       "      <td>17.80</td>\n",
       "      <td>396.90</td>\n",
       "      <td>9.14</td>\n",
       "      <td>21.60</td>\n",
       "    </tr>\n",
       "    <tr>\n",
       "      <th>2</th>\n",
       "      <td>0.03</td>\n",
       "      <td>0.00</td>\n",
       "      <td>7.07</td>\n",
       "      <td>0.00</td>\n",
       "      <td>0.47</td>\n",
       "      <td>7.18</td>\n",
       "      <td>61.10</td>\n",
       "      <td>4.97</td>\n",
       "      <td>2.00</td>\n",
       "      <td>242.00</td>\n",
       "      <td>17.80</td>\n",
       "      <td>392.83</td>\n",
       "      <td>4.03</td>\n",
       "      <td>34.70</td>\n",
       "    </tr>\n",
       "    <tr>\n",
       "      <th>3</th>\n",
       "      <td>0.03</td>\n",
       "      <td>0.00</td>\n",
       "      <td>2.18</td>\n",
       "      <td>0.00</td>\n",
       "      <td>0.46</td>\n",
       "      <td>7.00</td>\n",
       "      <td>45.80</td>\n",
       "      <td>6.06</td>\n",
       "      <td>3.00</td>\n",
       "      <td>222.00</td>\n",
       "      <td>18.70</td>\n",
       "      <td>394.63</td>\n",
       "      <td>2.94</td>\n",
       "      <td>33.40</td>\n",
       "    </tr>\n",
       "    <tr>\n",
       "      <th>4</th>\n",
       "      <td>0.07</td>\n",
       "      <td>0.00</td>\n",
       "      <td>2.18</td>\n",
       "      <td>0.00</td>\n",
       "      <td>0.46</td>\n",
       "      <td>7.15</td>\n",
       "      <td>54.20</td>\n",
       "      <td>6.06</td>\n",
       "      <td>3.00</td>\n",
       "      <td>222.00</td>\n",
       "      <td>18.70</td>\n",
       "      <td>396.90</td>\n",
       "      <td>5.33</td>\n",
       "      <td>36.20</td>\n",
       "    </tr>\n",
       "  </tbody>\n",
       "</table>\n",
       "</div>"
      ],
      "text/plain": [
       "   CRIM    ZN  INDUS  CHAS  NOX   RM   AGE  DIS  RAD    TAX  PTRATIO      B  \\\n",
       "0  0.01 18.00   2.31  0.00 0.54 6.58 65.20 4.09 1.00 296.00    15.30 396.90   \n",
       "1  0.03  0.00   7.07  0.00 0.47 6.42 78.90 4.97 2.00 242.00    17.80 396.90   \n",
       "2  0.03  0.00   7.07  0.00 0.47 7.18 61.10 4.97 2.00 242.00    17.80 392.83   \n",
       "3  0.03  0.00   2.18  0.00 0.46 7.00 45.80 6.06 3.00 222.00    18.70 394.63   \n",
       "4  0.07  0.00   2.18  0.00 0.46 7.15 54.20 6.06 3.00 222.00    18.70 396.90   \n",
       "\n",
       "   LSTAT  MEDV  \n",
       "0   4.98 24.00  \n",
       "1   9.14 21.60  \n",
       "2   4.03 34.70  \n",
       "3   2.94 33.40  \n",
       "4   5.33 36.20  "
      ]
     },
     "execution_count": 20,
     "metadata": {},
     "output_type": "execute_result"
    }
   ],
   "source": [
    "data_url = \"http://lib.stat.cmu.edu/datasets/boston\"\n",
    "raw_df = pd.read_csv(data_url, sep=\"\\s+\", skiprows=22, header=None)\n",
    "data = np.hstack([raw_df.values[::2, :], raw_df.values[1::2, :2]])\n",
    "feature_names = ['CRIM','ZN','INDUS','CHAS','NOX','RM','AGE','DIS','RAD','TAX','PTRATIO','B','LSTAT']\n",
    "target = raw_df.values[1::2, 2]\n",
    "#create dataframe\n",
    "boston = pd.DataFrame(data, columns=feature_names)\n",
    "boston['MEDV']=target\n",
    "\n",
    "boston.head()"
   ]
  },
  {
   "cell_type": "code",
   "execution_count": 21,
   "id": "1ddd5091",
   "metadata": {},
   "outputs": [],
   "source": [
    "X = boston.drop(columns=['MEDV'])\n",
    "y = boston['MEDV'].values.reshape(-1,1)"
   ]
  },
  {
   "cell_type": "code",
   "execution_count": 22,
   "id": "e3867ef8",
   "metadata": {},
   "outputs": [],
   "source": [
    "from sklearn.preprocessing import MinMaxScaler\n",
    "scaler=MinMaxScaler()\n",
    "X=scaler.fit_transform(X)\n",
    "X=np.c_[np.ones((len(X),1)),X]\n",
    "lm=0.01\n",
    "betas = np.linalg.inv(X.T.dot(X)+lm*np.identity(len(X.T.dot(X)))).dot(X.T).dot(y)\n"
   ]
  },
  {
   "cell_type": "code",
   "execution_count": 23,
   "id": "fb018075",
   "metadata": {},
   "outputs": [],
   "source": [
    "pd.options.display.float_format = \"{:,.2f}\".format"
   ]
  },
  {
   "cell_type": "code",
   "execution_count": 24,
   "id": "bfcea383",
   "metadata": {},
   "outputs": [
    {
     "data": {
      "text/html": [
       "<div>\n",
       "<style scoped>\n",
       "    .dataframe tbody tr th:only-of-type {\n",
       "        vertical-align: middle;\n",
       "    }\n",
       "\n",
       "    .dataframe tbody tr th {\n",
       "        vertical-align: top;\n",
       "    }\n",
       "\n",
       "    .dataframe thead th {\n",
       "        text-align: right;\n",
       "    }\n",
       "</style>\n",
       "<table border=\"1\" class=\"dataframe\">\n",
       "  <thead>\n",
       "    <tr style=\"text-align: right;\">\n",
       "      <th></th>\n",
       "      <th>BIAS</th>\n",
       "      <th>CRIM</th>\n",
       "      <th>ZN</th>\n",
       "      <th>INDUS</th>\n",
       "      <th>CHAS</th>\n",
       "      <th>NOX</th>\n",
       "      <th>RM</th>\n",
       "      <th>AGE</th>\n",
       "      <th>DIS</th>\n",
       "      <th>RAD</th>\n",
       "      <th>TAX</th>\n",
       "      <th>PTRATIO</th>\n",
       "      <th>B</th>\n",
       "      <th>LSTAT</th>\n",
       "    </tr>\n",
       "  </thead>\n",
       "  <tbody>\n",
       "    <tr>\n",
       "      <th>Beta value</th>\n",
       "      <td>26.54</td>\n",
       "      <td>-9.57</td>\n",
       "      <td>4.63</td>\n",
       "      <td>0.56</td>\n",
       "      <td>2.69</td>\n",
       "      <td>-8.60</td>\n",
       "      <td>19.91</td>\n",
       "      <td>0.07</td>\n",
       "      <td>-16.16</td>\n",
       "      <td>7.02</td>\n",
       "      <td>-6.45</td>\n",
       "      <td>-8.94</td>\n",
       "      <td>3.71</td>\n",
       "      <td>-19.00</td>\n",
       "    </tr>\n",
       "  </tbody>\n",
       "</table>\n",
       "</div>"
      ],
      "text/plain": [
       "            BIAS  CRIM   ZN  INDUS  CHAS   NOX    RM  AGE    DIS  RAD   TAX  \\\n",
       "Beta value 26.54 -9.57 4.63   0.56  2.69 -8.60 19.91 0.07 -16.16 7.02 -6.45   \n",
       "\n",
       "            PTRATIO    B  LSTAT  \n",
       "Beta value    -8.94 3.71 -19.00  "
      ]
     },
     "execution_count": 24,
     "metadata": {},
     "output_type": "execute_result"
    }
   ],
   "source": [
    "index=['BIAS','CRIM', 'ZN', 'INDUS', 'CHAS', 'NOX', 'RM', 'AGE', 'DIS', 'RAD',\n",
    " 'TAX', 'PTRATIO', 'B', 'LSTAT']\n",
    "pd.DataFrame(betas,columns=['Beta value'],index=index).T"
   ]
  },
  {
   "cell_type": "code",
   "execution_count": 25,
   "id": "99678857",
   "metadata": {},
   "outputs": [
    {
     "name": "stdout",
     "output_type": "stream",
     "text": [
      "No of samples: 506 and No of features: 14\n"
     ]
    }
   ],
   "source": [
    "#Ridge regression with Gradient Descent\n",
    "X = X\n",
    "\n",
    "n = X.shape[0]\n",
    "d = X.shape[1]\n",
    "print('No of samples:',n,'and No of features:',d)"
   ]
  },
  {
   "cell_type": "code",
   "execution_count": 26,
   "id": "19ba26d6",
   "metadata": {},
   "outputs": [
    {
     "name": "stdout",
     "output_type": "stream",
     "text": [
      "(14, 1)\n"
     ]
    }
   ],
   "source": [
    "def initialize_betas(X,y):\n",
    "    np.random.seed(0)\n",
    "    betas = np.random.randn(d,1)\n",
    "    return betas\n",
    "betas = initialize_betas(X,y)\n",
    "print(betas.shape)"
   ]
  },
  {
   "cell_type": "code",
   "execution_count": 27,
   "id": "7dc9ddba",
   "metadata": {},
   "outputs": [
    {
     "name": "stdout",
     "output_type": "stream",
     "text": [
      "Cost of ridge regression with random betas:  201.5767128072047\n"
     ]
    }
   ],
   "source": [
    "def calculate_cost(betas):\n",
    "    cost=1/(2*n) * np.sum(np.square(y-np.dot(X, betas))) + (lm/(2*n)) * np.sum(np.square(betas))\n",
    "    return cost\n",
    "\n",
    "print('Cost of ridge regression with random betas: ', calculate_cost(betas))"
   ]
  },
  {
   "cell_type": "code",
   "execution_count": 30,
   "id": "33c384fa",
   "metadata": {},
   "outputs": [
    {
     "name": "stdout",
     "output_type": "stream",
     "text": [
      "Gradients for random betas = \n",
      "[[-17.76799424]\n",
      " [ -0.35396529]\n",
      " [ -2.8144031 ]\n",
      " [ -5.72414928]\n",
      " [ -1.52344185]\n",
      " [ -5.21639823]\n",
      " [-10.14089749]\n",
      " [-10.95493409]\n",
      " [ -4.79003558]\n",
      " [ -5.13020129]\n",
      " [ -5.98593094]\n",
      " [ -9.90502901]\n",
      " [-16.67594573]\n",
      " [ -3.98356663]] \n"
     ]
    }
   ],
   "source": [
    "lm=0.01\n",
    "def calculate_gradients(betas, lm):\n",
    "    gradients=((1/n)*np.dot(X.T,(np.dot(X,betas)-y))+(lm/n)*betas)\n",
    "    return gradients\n",
    "\n",
    "print(f'Gradients for random betas = \\n{calculate_gradients(betas,lm)} ')"
   ]
  },
  {
   "cell_type": "code",
   "execution_count": 31,
   "id": "b1698866",
   "metadata": {},
   "outputs": [],
   "source": [
    "def gradient_descent(X,y):\n",
    "    np.random.seed(0)\n",
    "    no_of_iterations = 5000\n",
    "    alpha = 0.01\n",
    "    train_error=[]\n",
    "    betas=np.random.rand(d,1)\n",
    "    \n",
    "    for i in range(1, no_of_iterations):\n",
    "        train_cost = calculate_cost(betas)\n",
    "        train_error.append(train_cost)\n",
    "        \n",
    "        betas = betas - alpha * calculate_gradients(betas, lm)\n",
    "        \n",
    "    return betas, train_error"
   ]
  },
  {
   "cell_type": "code",
   "execution_count": 32,
   "id": "b0e9019c",
   "metadata": {},
   "outputs": [
    {
     "data": {
      "text/html": [
       "<div>\n",
       "<style scoped>\n",
       "    .dataframe tbody tr th:only-of-type {\n",
       "        vertical-align: middle;\n",
       "    }\n",
       "\n",
       "    .dataframe tbody tr th {\n",
       "        vertical-align: top;\n",
       "    }\n",
       "\n",
       "    .dataframe thead th {\n",
       "        text-align: right;\n",
       "    }\n",
       "</style>\n",
       "<table border=\"1\" class=\"dataframe\">\n",
       "  <thead>\n",
       "    <tr style=\"text-align: right;\">\n",
       "      <th></th>\n",
       "      <th>Beta value</th>\n",
       "    </tr>\n",
       "  </thead>\n",
       "  <tbody>\n",
       "    <tr>\n",
       "      <th>BIAS</th>\n",
       "      <td>13.33</td>\n",
       "    </tr>\n",
       "    <tr>\n",
       "      <th>CRIM</th>\n",
       "      <td>-2.08</td>\n",
       "    </tr>\n",
       "    <tr>\n",
       "      <th>ZN</th>\n",
       "      <td>3.61</td>\n",
       "    </tr>\n",
       "    <tr>\n",
       "      <th>INDUS</th>\n",
       "      <td>-1.30</td>\n",
       "    </tr>\n",
       "    <tr>\n",
       "      <th>CHAS</th>\n",
       "      <td>3.92</td>\n",
       "    </tr>\n",
       "    <tr>\n",
       "      <th>NOX</th>\n",
       "      <td>-1.11</td>\n",
       "    </tr>\n",
       "    <tr>\n",
       "      <th>RM</th>\n",
       "      <td>21.05</td>\n",
       "    </tr>\n",
       "    <tr>\n",
       "      <th>AGE</th>\n",
       "      <td>1.74</td>\n",
       "    </tr>\n",
       "    <tr>\n",
       "      <th>DIS</th>\n",
       "      <td>-2.43</td>\n",
       "    </tr>\n",
       "    <tr>\n",
       "      <th>RAD</th>\n",
       "      <td>2.52</td>\n",
       "    </tr>\n",
       "    <tr>\n",
       "      <th>TAX</th>\n",
       "      <td>-2.64</td>\n",
       "    </tr>\n",
       "    <tr>\n",
       "      <th>PTRATIO</th>\n",
       "      <td>-6.64</td>\n",
       "    </tr>\n",
       "    <tr>\n",
       "      <th>B</th>\n",
       "      <td>7.29</td>\n",
       "    </tr>\n",
       "    <tr>\n",
       "      <th>LSTAT</th>\n",
       "      <td>-14.49</td>\n",
       "    </tr>\n",
       "  </tbody>\n",
       "</table>\n",
       "</div>"
      ],
      "text/plain": [
       "         Beta value\n",
       "BIAS          13.33\n",
       "CRIM          -2.08\n",
       "ZN             3.61\n",
       "INDUS         -1.30\n",
       "CHAS           3.92\n",
       "NOX           -1.11\n",
       "RM            21.05\n",
       "AGE            1.74\n",
       "DIS           -2.43\n",
       "RAD            2.52\n",
       "TAX           -2.64\n",
       "PTRATIO       -6.64\n",
       "B              7.29\n",
       "LSTAT        -14.49"
      ]
     },
     "execution_count": 32,
     "metadata": {},
     "output_type": "execute_result"
    }
   ],
   "source": [
    "betas, train_error = gradient_descent(X,y)\n",
    "pd.DataFrame(betas, columns=['Beta value'],index=index)"
   ]
  },
  {
   "cell_type": "code",
   "execution_count": 44,
   "id": "eeda7ce1",
   "metadata": {},
   "outputs": [
    {
     "name": "stdout",
     "output_type": "stream",
     "text": [
      "Train Error: 12.92\n"
     ]
    },
    {
     "data": {
      "image/png": "[encoded data removed]",
      "text/plain": [
       "<Figure size 432x288 with 1 Axes>"
      ]
     },
     "metadata": {
      "needs_background": "light"
     },
     "output_type": "display_data"
    }
   ],
   "source": [
    "print('Train Error: {0:.2f}'.format(train_error[-1]))\n",
    "plt.plot(np.arange(len(train_error)),train_error)\n",
    "plt.xlabel('Cost Function Curve with Number of Iterations')\n",
    "plt.ylabel('Number of Iterations')\n",
    "plt.ylim(0,200)\n",
    "plt.show()"
   ]
  }
 ],
 "metadata": {
  "kernelspec": {
   "display_name": "base",
   "language": "python",
   "name": "python3"
  },
  "language_info": {
   "codemirror_mode": {
    "name": "ipython",
    "version": 3
   },
   "file_extension": ".py",
   "mimetype": "text/x-python",
   "name": "python",
   "nbconvert_exporter": "python",
   "pygments_lexer": "ipython3",
   "version": "3.9.12"
  },
  "vscode": {
   "interpreter": {
    "hash": "847d36dd74d3db7bcac89bf357c370f015c294bfb16cb92561a1974142bc3141"
   }
  }
 },
 "nbformat": 4,
 "nbformat_minor": 5
}
