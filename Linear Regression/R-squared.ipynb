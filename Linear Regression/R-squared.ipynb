{
 "cells": [
  {
   "cell_type": "code",
   "execution_count": 2,
   "id": "a0e43650",
   "metadata": {},
   "outputs": [],
   "source": [
    "import numpy as np\n",
    "import matplotlib as mpl\n",
    "from matplotlib import pyplot as plt\n",
    "import pandas as pd\n",
    "from sklearn.linear_model import LinearRegression\n",
    "from sklearn.metrics import mean_squared_error, median_absolute_error, r2_score\n",
    "from IPython.display import display, HTML"
   ]
  },
  {
   "cell_type": "code",
   "execution_count": 3,
   "id": "349a0a0e",
   "metadata": {},
   "outputs": [
    {
     "data": {
      "text/html": [
       "<div>\n",
       "<style scoped>\n",
       "    .dataframe tbody tr th:only-of-type {\n",
       "        vertical-align: middle;\n",
       "    }\n",
       "\n",
       "    .dataframe tbody tr th {\n",
       "        vertical-align: top;\n",
       "    }\n",
       "\n",
       "    .dataframe thead th {\n",
       "        text-align: right;\n",
       "    }\n",
       "</style>\n",
       "<table border=\"1\" class=\"dataframe\">\n",
       "  <thead>\n",
       "    <tr style=\"text-align: right;\">\n",
       "      <th></th>\n",
       "      <th>TV</th>\n",
       "      <th>radio</th>\n",
       "      <th>newspaper</th>\n",
       "      <th>sales</th>\n",
       "    </tr>\n",
       "  </thead>\n",
       "  <tbody>\n",
       "    <tr>\n",
       "      <th>1</th>\n",
       "      <td>230.1</td>\n",
       "      <td>37.8</td>\n",
       "      <td>69.2</td>\n",
       "      <td>22.1</td>\n",
       "    </tr>\n",
       "    <tr>\n",
       "      <th>2</th>\n",
       "      <td>44.5</td>\n",
       "      <td>39.3</td>\n",
       "      <td>45.1</td>\n",
       "      <td>10.4</td>\n",
       "    </tr>\n",
       "    <tr>\n",
       "      <th>3</th>\n",
       "      <td>17.2</td>\n",
       "      <td>45.9</td>\n",
       "      <td>69.3</td>\n",
       "      <td>9.3</td>\n",
       "    </tr>\n",
       "    <tr>\n",
       "      <th>4</th>\n",
       "      <td>151.5</td>\n",
       "      <td>41.3</td>\n",
       "      <td>58.5</td>\n",
       "      <td>18.5</td>\n",
       "    </tr>\n",
       "    <tr>\n",
       "      <th>5</th>\n",
       "      <td>180.8</td>\n",
       "      <td>10.8</td>\n",
       "      <td>58.4</td>\n",
       "      <td>12.9</td>\n",
       "    </tr>\n",
       "  </tbody>\n",
       "</table>\n",
       "</div>"
      ],
      "text/plain": [
       "      TV  radio  newspaper  sales\n",
       "1  230.1   37.8       69.2   22.1\n",
       "2   44.5   39.3       45.1   10.4\n",
       "3   17.2   45.9       69.3    9.3\n",
       "4  151.5   41.3       58.5   18.5\n",
       "5  180.8   10.8       58.4   12.9"
      ]
     },
     "execution_count": 3,
     "metadata": {},
     "output_type": "execute_result"
    }
   ],
   "source": [
    "data_path = 'https://www.statlearning.com/s/Advertising.csv'\n",
    "data_df = pd.read_csv(data_path,index_col=0)\n",
    "data_df.head()"
   ]
  },
  {
   "cell_type": "code",
   "execution_count": 4,
   "id": "9c47961f",
   "metadata": {},
   "outputs": [],
   "source": [
    "results = {\n",
    "    \"R Squared\": list()\n",
    "}\n",
    "linear_regression = LinearRegression()\n",
    "y_true = data_df[['sales']]\n",
    "\n",
    "#TV\n",
    "linear_regression.fit(data_df[['TV']], data_df[['sales']])\n",
    "y_pred = linear_regression.predict(data_df[['TV']])\n",
    "results[\"R Squared\"].append(r2_score(y_true, y_pred))\n",
    "\n",
    "#Radio\n",
    "linear_regression.fit(data_df[['radio']], data_df[['sales']])\n",
    "y_pred = linear_regression.predict(data_df[['radio']])\n",
    "results[\"R Squared\"].append(r2_score(y_true, y_pred))\n",
    "\n",
    "#newspaper\n",
    "linear_regression.fit(data_df[['newspaper']], data_df[['sales']])\n",
    "y_pred = linear_regression.predict(data_df[['newspaper']])\n",
    "results[\"R Squared\"].append(r2_score(y_true, y_pred))\n",
    "\n",
    "#Tv, radio\n",
    "linear_regression.fit(data_df[['TV','radio']], data_df[['sales']])\n",
    "y_pred = linear_regression.predict(data_df[['TV','radio']])\n",
    "results[\"R Squared\"].append(r2_score(y_true, y_pred))\n",
    "\n",
    "#Tv, radio, newspaper\n",
    "linear_regression.fit(data_df[[\"TV\", \"radio\", \"newspaper\"]], data_df[[\"sales\"]])\n",
    "y_pred = linear_regression.predict( data_df[[\"TV\", \"radio\", \"newspaper\"]] )\n",
    "results[\"R Squared\"].append( r2_score(y_true, y_pred) )"
   ]
  },
  {
   "cell_type": "code",
   "execution_count": 5,
   "id": "f532a6cd",
   "metadata": {},
   "outputs": [
    {
     "data": {
      "text/html": [
       "<div>\n",
       "<style scoped>\n",
       "    .dataframe tbody tr th:only-of-type {\n",
       "        vertical-align: middle;\n",
       "    }\n",
       "\n",
       "    .dataframe tbody tr th {\n",
       "        vertical-align: top;\n",
       "    }\n",
       "\n",
       "    .dataframe thead th {\n",
       "        text-align: right;\n",
       "    }\n",
       "</style>\n",
       "<table border=\"1\" class=\"dataframe\">\n",
       "  <thead>\n",
       "    <tr style=\"text-align: right;\">\n",
       "      <th></th>\n",
       "      <th>TV</th>\n",
       "      <th>radio</th>\n",
       "      <th>newspaper</th>\n",
       "      <th>TV + radio</th>\n",
       "      <th>TV + radio + newspaper</th>\n",
       "    </tr>\n",
       "  </thead>\n",
       "  <tbody>\n",
       "    <tr>\n",
       "      <th>R Squared</th>\n",
       "      <td>0.611875</td>\n",
       "      <td>0.332032</td>\n",
       "      <td>0.05212</td>\n",
       "      <td>0.897194</td>\n",
       "      <td>0.897211</td>\n",
       "    </tr>\n",
       "  </tbody>\n",
       "</table>\n",
       "</div>"
      ],
      "text/plain": [
       "                 TV     radio  newspaper  TV + radio  TV + radio + newspaper\n",
       "R Squared  0.611875  0.332032    0.05212    0.897194                0.897211"
      ]
     },
     "metadata": {},
     "output_type": "display_data"
    }
   ],
   "source": [
    "#interpreting results\n",
    "index = [\"TV\",\"radio\",\"newspaper\",\"TV + radio\",\"TV + radio + newspaper\"]\n",
    "r2_df = pd.DataFrame(results, index=index).transpose()\n",
    "display(r2_df)"
   ]
  }
 ],
 "metadata": {
  "kernelspec": {
   "display_name": "Python 3 (ipykernel)",
   "language": "python",
   "name": "python3"
  },
  "language_info": {
   "codemirror_mode": {
    "name": "ipython",
    "version": 3
   },
   "file_extension": ".py",
   "mimetype": "text/x-python",
   "name": "python",
   "nbconvert_exporter": "python",
   "pygments_lexer": "ipython3",
   "version": "3.9.12"
  }
 },
 "nbformat": 4,
 "nbformat_minor": 5
}
