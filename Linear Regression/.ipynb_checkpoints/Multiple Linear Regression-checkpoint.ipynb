{
 "cells": [
  {
   "cell_type": "code",
   "execution_count": 11,
   "id": "24576ac4",
   "metadata": {},
   "outputs": [],
   "source": [
    "import numpy as np\n",
    "import pandas as pd\n",
    "import matplotlib as mpl\n",
    "from matplotlib import pyplot as plt\n",
    "from IPython.display import display, HTML"
   ]
  },
  {
   "cell_type": "code",
   "execution_count": 12,
   "id": "fbc153ff",
   "metadata": {},
   "outputs": [
    {
     "data": {
      "text/html": [
       "<div>\n",
       "<style scoped>\n",
       "    .dataframe tbody tr th:only-of-type {\n",
       "        vertical-align: middle;\n",
       "    }\n",
       "\n",
       "    .dataframe tbody tr th {\n",
       "        vertical-align: top;\n",
       "    }\n",
       "\n",
       "    .dataframe thead th {\n",
       "        text-align: right;\n",
       "    }\n",
       "</style>\n",
       "<table border=\"1\" class=\"dataframe\">\n",
       "  <thead>\n",
       "    <tr style=\"text-align: right;\">\n",
       "      <th></th>\n",
       "      <th>TV</th>\n",
       "      <th>radio</th>\n",
       "      <th>newspaper</th>\n",
       "      <th>sales</th>\n",
       "    </tr>\n",
       "  </thead>\n",
       "  <tbody>\n",
       "    <tr>\n",
       "      <th>1</th>\n",
       "      <td>230.1</td>\n",
       "      <td>37.8</td>\n",
       "      <td>69.2</td>\n",
       "      <td>22.1</td>\n",
       "    </tr>\n",
       "    <tr>\n",
       "      <th>2</th>\n",
       "      <td>44.5</td>\n",
       "      <td>39.3</td>\n",
       "      <td>45.1</td>\n",
       "      <td>10.4</td>\n",
       "    </tr>\n",
       "    <tr>\n",
       "      <th>3</th>\n",
       "      <td>17.2</td>\n",
       "      <td>45.9</td>\n",
       "      <td>69.3</td>\n",
       "      <td>9.3</td>\n",
       "    </tr>\n",
       "    <tr>\n",
       "      <th>4</th>\n",
       "      <td>151.5</td>\n",
       "      <td>41.3</td>\n",
       "      <td>58.5</td>\n",
       "      <td>18.5</td>\n",
       "    </tr>\n",
       "    <tr>\n",
       "      <th>5</th>\n",
       "      <td>180.8</td>\n",
       "      <td>10.8</td>\n",
       "      <td>58.4</td>\n",
       "      <td>12.9</td>\n",
       "    </tr>\n",
       "  </tbody>\n",
       "</table>\n",
       "</div>"
      ],
      "text/plain": [
       "      TV  radio  newspaper  sales\n",
       "1  230.1   37.8       69.2   22.1\n",
       "2   44.5   39.3       45.1   10.4\n",
       "3   17.2   45.9       69.3    9.3\n",
       "4  151.5   41.3       58.5   18.5\n",
       "5  180.8   10.8       58.4   12.9"
      ]
     },
     "execution_count": 12,
     "metadata": {},
     "output_type": "execute_result"
    }
   ],
   "source": [
    "data_path = \"https://storage.googleapis.com/codehub-data/1-lv2-2-2-Advertisement.csv\"\n",
    "\n",
    "data_df = pd.read_csv(data_path,index_col = 0)\n",
    "\n",
    "data_df.head()"
   ]
  },
  {
   "cell_type": "code",
   "execution_count": 14,
   "id": "b5828bec",
   "metadata": {},
   "outputs": [
    {
     "data": {
      "text/plain": [
       "<function matplotlib.pyplot.show(close=None, block=None)>"
      ]
     },
     "execution_count": 14,
     "metadata": {},
     "output_type": "execute_result"
    },
    {
     "data": {
      "image/png": "[encoded data removed]",
      "text/plain": [
       "<Figure size 1080x288 with 3 Axes>"
      ]
     },
     "metadata": {
      "needs_background": "light"
     },
     "output_type": "display_data"
    }
   ],
   "source": [
    "fig = plt.figure(figsize=(15,4))\n",
    "gs = mpl.gridspec.GridSpec(1,3)\n",
    "\n",
    "#sales vs tv\n",
    "ax = fig.add_subplot(gs[0])\n",
    "ax.scatter(data_df[\"TV\"],data_df[\"sales\"],color=\"red\", marker=\".\")\n",
    "ax.set_xlabel(\"TV\")\n",
    "ax.set_ylabel(\"sales\")\n",
    "\n",
    "#sales vs radio\n",
    "ax = fig.add_subplot(gs[1])\n",
    "ax.scatter(data_df[\"radio\"],data_df[\"sales\"],color=\"green\", marker=\".\")\n",
    "ax.set_xlabel(\"radio\")\n",
    "ax.set_ylabel(\"sales\")\n",
    "\n",
    "#sales vs newspaper\n",
    "ax = fig.add_subplot(gs[2])\n",
    "ax.scatter(data_df[\"newspaper\"],data_df[\"sales\"],color=\"blue\", marker=\".\")\n",
    "ax.set_xlabel(\"newspaper\")\n",
    "ax.set_ylabel(\"sales\")\n",
    "\n",
    "plt.show"
   ]
  },
  {
   "cell_type": "code",
   "execution_count": 15,
   "id": "42df78ae",
   "metadata": {},
   "outputs": [],
   "source": [
    "### MULTIPLE LINEAR REGRESSION USING ORDINARY LEAST SQUARES"
   ]
  },
  {
   "cell_type": "code",
   "execution_count": 16,
   "id": "1e155e4e",
   "metadata": {},
   "outputs": [
    {
     "data": {
      "text/html": [
       "<strong>TV and Radio</strong> <br>\n",
       "$Y$ = 2.92 + 0.05$x_{1}$ + 0.19$x_{2}$ <br>\n",
       "$x_{1}$ = TV <br>\n",
       "$x_{2}$ = radio\n"
      ],
      "text/plain": [
       "<IPython.core.display.HTML object>"
      ]
     },
     "metadata": {},
     "output_type": "display_data"
    },
    {
     "name": "stdout",
     "output_type": "stream",
     "text": [
      "\n"
     ]
    },
    {
     "data": {
      "text/html": [
       "<strong>TV, Radio, and Newspaper</strong> <br>\n",
       "$y$ = 2.94 + 0.05$x_{1}$ + 0.19$x_{2}$ + -0.00$x_{3}$ <br>\n",
       "$x_{1}$ = TV <br>\n",
       "$x_{2}$ = radio <br>\n",
       "$x_{3}$ = newspaper\n"
      ],
      "text/plain": [
       "<IPython.core.display.HTML object>"
      ]
     },
     "metadata": {},
     "output_type": "display_data"
    }
   ],
   "source": [
    "# training linear regression using tv and radio\n",
    "X = data_df[[\"TV\",\"radio\"]]\n",
    "Y = data_df[[\"sales\"]]\n",
    "\n",
    "#set bias/intercept term to 1 for each 200 samples\n",
    "X = np.c_[np.ones((200,1)), X]\n",
    "X_transpose = np.transpose(X)\n",
    "\n",
    "#implementing least square solution of matrix form\n",
    "betas = np.linalg.inv(X_transpose.dot(X)).dot(X_transpose).dot(Y)\n",
    "\n",
    "message = \"\"\"<strong>TV and Radio</strong> <br>\n",
    "$Y$ = {:.2f} + {:.2f}$x_{{1}}$ + {:.2f}$x_{{2}}$ <br>\n",
    "$x_{{1}}$ = TV <br>\n",
    "$x_{{2}}$ = radio\n",
    "\"\"\".format(*betas[0], *betas[1],*betas[2])\n",
    "display(HTML(message))\n",
    "print(\"\")\n",
    "\n",
    "#training linear regression using all features\n",
    "X = data_df[[\"TV\",\"radio\",\"newspaper\"]]\n",
    "y = data_df[[\"sales\"]]\n",
    "\n",
    "X = np.c_[np.ones((200, 1)), X]\n",
    "X_transpose = np.transpose(X)\n",
    "# implementing least square solution of matrix form\n",
    "betas = np.linalg.inv(X_transpose.dot(X)).dot(X_transpose).dot(y)\n",
    "message = \"\"\"<strong>TV, Radio, and Newspaper</strong> <br>\n",
    "$y$ = {:.2f} + {:.2f}$x_{{1}}$ + {:.2f}$x_{{2}}$ + {:.2f}$x_{{3}}$ <br>\n",
    "$x_{{1}}$ = TV <br>\n",
    "$x_{{2}}$ = radio <br>\n",
    "$x_{{3}}$ = newspaper\n",
    "\"\"\".format(*betas[0], *betas[1], *betas[2], *betas[3])\n",
    "display(HTML( message ))\n"
   ]
  }
 ],
 "metadata": {
  "kernelspec": {
   "display_name": "Python 3 (ipykernel)",
   "language": "python",
   "name": "python3"
  },
  "language_info": {
   "codemirror_mode": {
    "name": "ipython",
    "version": 3
   },
   "file_extension": ".py",
   "mimetype": "text/x-python",
   "name": "python",
   "nbconvert_exporter": "python",
   "pygments_lexer": "ipython3",
   "version": "3.9.12"
  }
 },
 "nbformat": 4,
 "nbformat_minor": 5
}
