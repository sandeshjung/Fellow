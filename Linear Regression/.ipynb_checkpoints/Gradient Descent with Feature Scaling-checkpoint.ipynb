{
 "cells": [
  {
   "cell_type": "code",
   "execution_count": 1,
   "id": "c9f4ce73",
   "metadata": {},
   "outputs": [],
   "source": [
    "import numpy as np \n",
    "import pandas as pd\n",
    "import matplotlib.pyplot as plt\n",
    "from IPython.display import clear_output\n",
    "import time"
   ]
  },
  {
   "cell_type": "code",
   "execution_count": 2,
   "id": "8db5551a",
   "metadata": {},
   "outputs": [
    {
     "data": {
      "text/html": [
       "<div>\n",
       "<style scoped>\n",
       "    .dataframe tbody tr th:only-of-type {\n",
       "        vertical-align: middle;\n",
       "    }\n",
       "\n",
       "    .dataframe tbody tr th {\n",
       "        vertical-align: top;\n",
       "    }\n",
       "\n",
       "    .dataframe thead th {\n",
       "        text-align: right;\n",
       "    }\n",
       "</style>\n",
       "<table border=\"1\" class=\"dataframe\">\n",
       "  <thead>\n",
       "    <tr style=\"text-align: right;\">\n",
       "      <th></th>\n",
       "      <th>TV</th>\n",
       "      <th>radio</th>\n",
       "      <th>newspaper</th>\n",
       "      <th>sales</th>\n",
       "    </tr>\n",
       "  </thead>\n",
       "  <tbody>\n",
       "    <tr>\n",
       "      <th>1</th>\n",
       "      <td>230.1</td>\n",
       "      <td>37.8</td>\n",
       "      <td>69.2</td>\n",
       "      <td>22.1</td>\n",
       "    </tr>\n",
       "    <tr>\n",
       "      <th>2</th>\n",
       "      <td>44.5</td>\n",
       "      <td>39.3</td>\n",
       "      <td>45.1</td>\n",
       "      <td>10.4</td>\n",
       "    </tr>\n",
       "    <tr>\n",
       "      <th>3</th>\n",
       "      <td>17.2</td>\n",
       "      <td>45.9</td>\n",
       "      <td>69.3</td>\n",
       "      <td>9.3</td>\n",
       "    </tr>\n",
       "    <tr>\n",
       "      <th>4</th>\n",
       "      <td>151.5</td>\n",
       "      <td>41.3</td>\n",
       "      <td>58.5</td>\n",
       "      <td>18.5</td>\n",
       "    </tr>\n",
       "    <tr>\n",
       "      <th>5</th>\n",
       "      <td>180.8</td>\n",
       "      <td>10.8</td>\n",
       "      <td>58.4</td>\n",
       "      <td>12.9</td>\n",
       "    </tr>\n",
       "  </tbody>\n",
       "</table>\n",
       "</div>"
      ],
      "text/plain": [
       "      TV  radio  newspaper  sales\n",
       "1  230.1   37.8       69.2   22.1\n",
       "2   44.5   39.3       45.1   10.4\n",
       "3   17.2   45.9       69.3    9.3\n",
       "4  151.5   41.3       58.5   18.5\n",
       "5  180.8   10.8       58.4   12.9"
      ]
     },
     "execution_count": 2,
     "metadata": {},
     "output_type": "execute_result"
    }
   ],
   "source": [
    "data_path = \"https://www.statlearning.com/s/Advertising.csv\"\n",
    "data_df = pd.read_csv(data_path,index_col=0)\n",
    "data_df.head()"
   ]
  },
  {
   "cell_type": "code",
   "execution_count": 3,
   "id": "0fde8475",
   "metadata": {},
   "outputs": [
    {
     "name": "stdout",
     "output_type": "stream",
     "text": [
      "no. of samples(n):  200\n",
      "no. of features(d):  4\n"
     ]
    }
   ],
   "source": [
    "X = data_df[['TV','radio','newspaper']].values\n",
    "\n",
    "X = np.concatenate([np.ones((X.shape[0],1)),X], axis=1)\n",
    "y=data_df['sales'].values.reshape(-1,1)\n",
    "\n",
    "n=X.shape[0]\n",
    "d=X.shape[1]\n",
    "\n",
    "print('no. of samples(n): ',n)\n",
    "print('no. of features(d): ',d)"
   ]
  },
  {
   "cell_type": "code",
   "execution_count": 4,
   "id": "e7ab8b9d",
   "metadata": {},
   "outputs": [
    {
     "data": {
      "text/html": [
       "<div>\n",
       "<style scoped>\n",
       "    .dataframe tbody tr th:only-of-type {\n",
       "        vertical-align: middle;\n",
       "    }\n",
       "\n",
       "    .dataframe tbody tr th {\n",
       "        vertical-align: top;\n",
       "    }\n",
       "\n",
       "    .dataframe thead th {\n",
       "        text-align: right;\n",
       "    }\n",
       "</style>\n",
       "<table border=\"1\" class=\"dataframe\">\n",
       "  <thead>\n",
       "    <tr style=\"text-align: right;\">\n",
       "      <th></th>\n",
       "      <th>TV</th>\n",
       "      <th>radio</th>\n",
       "      <th>newspaper</th>\n",
       "    </tr>\n",
       "  </thead>\n",
       "  <tbody>\n",
       "    <tr>\n",
       "      <th>count</th>\n",
       "      <td>200.000000</td>\n",
       "      <td>200.000000</td>\n",
       "      <td>200.000000</td>\n",
       "    </tr>\n",
       "    <tr>\n",
       "      <th>mean</th>\n",
       "      <td>147.042500</td>\n",
       "      <td>23.264000</td>\n",
       "      <td>30.554000</td>\n",
       "    </tr>\n",
       "    <tr>\n",
       "      <th>std</th>\n",
       "      <td>85.854236</td>\n",
       "      <td>14.846809</td>\n",
       "      <td>21.778621</td>\n",
       "    </tr>\n",
       "    <tr>\n",
       "      <th>min</th>\n",
       "      <td>0.700000</td>\n",
       "      <td>0.000000</td>\n",
       "      <td>0.300000</td>\n",
       "    </tr>\n",
       "    <tr>\n",
       "      <th>25%</th>\n",
       "      <td>74.375000</td>\n",
       "      <td>9.975000</td>\n",
       "      <td>12.750000</td>\n",
       "    </tr>\n",
       "    <tr>\n",
       "      <th>50%</th>\n",
       "      <td>149.750000</td>\n",
       "      <td>22.900000</td>\n",
       "      <td>25.750000</td>\n",
       "    </tr>\n",
       "    <tr>\n",
       "      <th>75%</th>\n",
       "      <td>218.825000</td>\n",
       "      <td>36.525000</td>\n",
       "      <td>45.100000</td>\n",
       "    </tr>\n",
       "    <tr>\n",
       "      <th>max</th>\n",
       "      <td>296.400000</td>\n",
       "      <td>49.600000</td>\n",
       "      <td>114.000000</td>\n",
       "    </tr>\n",
       "  </tbody>\n",
       "</table>\n",
       "</div>"
      ],
      "text/plain": [
       "               TV       radio   newspaper\n",
       "count  200.000000  200.000000  200.000000\n",
       "mean   147.042500   23.264000   30.554000\n",
       "std     85.854236   14.846809   21.778621\n",
       "min      0.700000    0.000000    0.300000\n",
       "25%     74.375000    9.975000   12.750000\n",
       "50%    149.750000   22.900000   25.750000\n",
       "75%    218.825000   36.525000   45.100000\n",
       "max    296.400000   49.600000  114.000000"
      ]
     },
     "execution_count": 4,
     "metadata": {},
     "output_type": "execute_result"
    }
   ],
   "source": [
    "#feature scaling\n",
    "data_df.iloc[:,:3].describe()"
   ]
  },
  {
   "cell_type": "code",
   "execution_count": 6,
   "id": "6978a535",
   "metadata": {},
   "outputs": [
    {
     "name": "stdout",
     "output_type": "stream",
     "text": [
      "Mean of TV: -0.00\n",
      "Mean of radio: -0.00\n",
      "Mean of newspaper: -0.00\n",
      "Std of TV: 1.00\n",
      "Std of radio: 1.00\n",
      "Std of newspaper: 1.00\n"
     ]
    },
    {
     "data": {
      "text/html": [
       "<div>\n",
       "<style scoped>\n",
       "    .dataframe tbody tr th:only-of-type {\n",
       "        vertical-align: middle;\n",
       "    }\n",
       "\n",
       "    .dataframe tbody tr th {\n",
       "        vertical-align: top;\n",
       "    }\n",
       "\n",
       "    .dataframe thead th {\n",
       "        text-align: right;\n",
       "    }\n",
       "</style>\n",
       "<table border=\"1\" class=\"dataframe\">\n",
       "  <thead>\n",
       "    <tr style=\"text-align: right;\">\n",
       "      <th></th>\n",
       "      <th>_</th>\n",
       "      <th>TV</th>\n",
       "      <th>radio</th>\n",
       "      <th>newspaper</th>\n",
       "    </tr>\n",
       "  </thead>\n",
       "  <tbody>\n",
       "    <tr>\n",
       "      <th>0</th>\n",
       "      <td>1.0</td>\n",
       "      <td>0.969852</td>\n",
       "      <td>0.981522</td>\n",
       "      <td>1.778945</td>\n",
       "    </tr>\n",
       "    <tr>\n",
       "      <th>1</th>\n",
       "      <td>1.0</td>\n",
       "      <td>-1.197376</td>\n",
       "      <td>1.082808</td>\n",
       "      <td>0.669579</td>\n",
       "    </tr>\n",
       "    <tr>\n",
       "      <th>2</th>\n",
       "      <td>1.0</td>\n",
       "      <td>-1.516155</td>\n",
       "      <td>1.528463</td>\n",
       "      <td>1.783549</td>\n",
       "    </tr>\n",
       "    <tr>\n",
       "      <th>3</th>\n",
       "      <td>1.0</td>\n",
       "      <td>0.052050</td>\n",
       "      <td>1.217855</td>\n",
       "      <td>1.286405</td>\n",
       "    </tr>\n",
       "    <tr>\n",
       "      <th>4</th>\n",
       "      <td>1.0</td>\n",
       "      <td>0.394182</td>\n",
       "      <td>-0.841614</td>\n",
       "      <td>1.281802</td>\n",
       "    </tr>\n",
       "    <tr>\n",
       "      <th>...</th>\n",
       "      <td>...</td>\n",
       "      <td>...</td>\n",
       "      <td>...</td>\n",
       "      <td>...</td>\n",
       "    </tr>\n",
       "    <tr>\n",
       "      <th>195</th>\n",
       "      <td>1.0</td>\n",
       "      <td>-1.270941</td>\n",
       "      <td>-1.321031</td>\n",
       "      <td>-0.771217</td>\n",
       "    </tr>\n",
       "    <tr>\n",
       "      <th>196</th>\n",
       "      <td>1.0</td>\n",
       "      <td>-0.617035</td>\n",
       "      <td>-1.240003</td>\n",
       "      <td>-1.033598</td>\n",
       "    </tr>\n",
       "    <tr>\n",
       "      <th>197</th>\n",
       "      <td>1.0</td>\n",
       "      <td>0.349810</td>\n",
       "      <td>-0.942899</td>\n",
       "      <td>-1.111852</td>\n",
       "    </tr>\n",
       "    <tr>\n",
       "      <th>198</th>\n",
       "      <td>1.0</td>\n",
       "      <td>1.594565</td>\n",
       "      <td>1.265121</td>\n",
       "      <td>1.640850</td>\n",
       "    </tr>\n",
       "    <tr>\n",
       "      <th>199</th>\n",
       "      <td>1.0</td>\n",
       "      <td>0.993206</td>\n",
       "      <td>-0.990165</td>\n",
       "      <td>-1.005979</td>\n",
       "    </tr>\n",
       "  </tbody>\n",
       "</table>\n",
       "<p>200 rows × 4 columns</p>\n",
       "</div>"
      ],
      "text/plain": [
       "       _        TV     radio  newspaper\n",
       "0    1.0  0.969852  0.981522   1.778945\n",
       "1    1.0 -1.197376  1.082808   0.669579\n",
       "2    1.0 -1.516155  1.528463   1.783549\n",
       "3    1.0  0.052050  1.217855   1.286405\n",
       "4    1.0  0.394182 -0.841614   1.281802\n",
       "..   ...       ...       ...        ...\n",
       "195  1.0 -1.270941 -1.321031  -0.771217\n",
       "196  1.0 -0.617035 -1.240003  -1.033598\n",
       "197  1.0  0.349810 -0.942899  -1.111852\n",
       "198  1.0  1.594565  1.265121   1.640850\n",
       "199  1.0  0.993206 -0.990165  -1.005979\n",
       "\n",
       "[200 rows x 4 columns]"
      ]
     },
     "execution_count": 6,
     "metadata": {},
     "output_type": "execute_result"
    }
   ],
   "source": [
    "X[:,1] = (X[:,1] - X[:,1].mean()) / X[:,1].std()\n",
    "X[:,2] = (X[:,2] - X[:,2].mean()) / X[:,2].std()\n",
    "X[:,3] = (X[:,3] - X[:,3].mean()) / X[:,3].std()\n",
    "\n",
    "print(\"Mean of TV: {:.2f}\".format(X[:,1].mean()))\n",
    "print(\"Mean of radio: {:.2f}\". format(X[:,2].mean()))\n",
    "print(\"Mean of newspaper: {:.2f}\". format(X[:,3].mean()))\n",
    "\n",
    "print(\"Std of TV: {:.2f}\". format(X[:,1].std()))\n",
    "print(\"Std of radio: {:.2f}\". format(X[:,2].std()))\n",
    "print(\"Std of newspaper: {:.2f}\". format(X[:,3].std()))\n",
    "\n",
    "\n",
    "pd.DataFrame(X, columns=['_', 'TV', 'radio', 'newspaper'])"
   ]
  },
  {
   "cell_type": "code",
   "execution_count": 7,
   "id": "e2d627fb",
   "metadata": {},
   "outputs": [],
   "source": [
    "#gradient descent"
   ]
  },
  {
   "cell_type": "code",
   "execution_count": 9,
   "id": "f2c42ed8",
   "metadata": {},
   "outputs": [
    {
     "name": "stdout",
     "output_type": "stream",
     "text": [
      "[[1.76405235]\n",
      " [0.40015721]\n",
      " [0.97873798]\n",
      " [2.2408932 ]]\n"
     ]
    }
   ],
   "source": [
    "#random initialization \n",
    "def initialize_betas(X,y):\n",
    "    np.random.seed(0)\n",
    "    betas = np.random.randn(d,1)\n",
    "    return betas\n",
    "\n",
    "betas = initialize_betas(X,y)\n",
    "print(betas)"
   ]
  },
  {
   "cell_type": "code",
   "execution_count": 10,
   "id": "6b9ab3a4",
   "metadata": {},
   "outputs": [
    {
     "name": "stdout",
     "output_type": "stream",
     "text": [
      "Cost with random betas: 17073.932296410057\n"
     ]
    }
   ],
   "source": [
    "#cost function\n",
    "def calculate_cost(betas):\n",
    "    cost = 1/2 * np.sum(np.square(np.dot(X,betas)-y))\n",
    "    return cost\n",
    "\n",
    "print(\"Cost with random betas:\", calculate_cost(betas))"
   ]
  },
  {
   "cell_type": "code",
   "execution_count": 11,
   "id": "3b2b5fd9",
   "metadata": {},
   "outputs": [
    {
     "name": "stdout",
     "output_type": "stream",
     "text": [
      "Gradients for random betas = \n",
      " [[-2451.68953081]\n",
      " [ -698.05275055]\n",
      " [ -240.94240852]\n",
      " [  284.39547481]]\n"
     ]
    }
   ],
   "source": [
    "#gradients\n",
    "def calculate_gradients(betas):\n",
    "    gradients= np.dot(X.T, (np.dot(X,betas)-y))\n",
    "    return gradients\n",
    "\n",
    "print(\"Gradients for random betas = \\n\", calculate_gradients(betas))"
   ]
  },
  {
   "cell_type": "code",
   "execution_count": 12,
   "id": "c3fa8d09",
   "metadata": {},
   "outputs": [],
   "source": [
    "def gradient_descent(X, y, alpha=0.003 , max_iters=10000, precision = 1e-3):\n",
    "  iteration = 0 \n",
    "  difference = 1\n",
    "  betas = initialize_betas(X,y) \n",
    "  cost = calculate_cost(betas) \n",
    "  costs = [calculate_cost(betas)] \n",
    "\n",
    "  while difference > precision and iteration <= max_iters :\n",
    "    betas = betas - alpha * calculate_gradients(betas)\n",
    "\n",
    "    cost = calculate_cost(betas)\n",
    "\n",
    "    difference = np.abs(costs[iteration] - cost) \n",
    "    costs.append(cost)\n",
    "    \n",
    "    print(\"iteration: {}, cost: {}\".format(iteration, cost))\n",
    "    iteration += 1\n",
    "    \n",
    "    if(cost == np.infty):\n",
    "      print(\"Cost reached infinity, try smaller learning rate\")\n",
    "      break\n",
    "    \n",
    "  return betas, iteration, costs"
   ]
  },
  {
   "cell_type": "code",
   "execution_count": 13,
   "id": "97980027",
   "metadata": {},
   "outputs": [
    {
     "name": "stdout",
     "output_type": "stream",
     "text": [
      "iteration: 0, cost: 3088.921208468101\n",
      "iteration: 1, cost: 773.3549524960533\n",
      "iteration: 2, cost: 374.2742681812921\n",
      "iteration: 3, cost: 299.9477443662568\n",
      "iteration: 4, cost: 284.17332625174714\n",
      "iteration: 5, cost: 280.2011413337413\n",
      "iteration: 6, cost: 279.02366882299606\n",
      "iteration: 7, cost: 278.63221698846144\n",
      "iteration: 8, cost: 278.4934536147585\n",
      "iteration: 9, cost: 278.44270007295745\n",
      "iteration: 10, cost: 278.4238705633019\n",
      "iteration: 11, cost: 278.4168409525166\n",
      "iteration: 12, cost: 278.41420945540756\n",
      "iteration: 13, cost: 278.41322321503844\n"
     ]
    }
   ],
   "source": [
    "beta , steps, costs = gradient_descent(X,y)"
   ]
  },
  {
   "cell_type": "code",
   "execution_count": 14,
   "id": "e774199b",
   "metadata": {},
   "outputs": [
    {
     "data": {
      "image/png": "[encoded data removed]",
      "text/plain": [
       "<Figure size 432x288 with 1 Axes>"
      ]
     },
     "metadata": {
      "needs_background": "light"
     },
     "output_type": "display_data"
    }
   ],
   "source": [
    "plt.plot(costs)\n",
    "plt.xlabel(\"No. of iterations\")\n",
    "plt.ylabel(\"Cost\")\n",
    "plt.ylim(0, 2000)\n",
    "plt.show()"
   ]
  }
 ],
 "metadata": {
  "kernelspec": {
   "display_name": "Python 3 (ipykernel)",
   "language": "python",
   "name": "python3"
  },
  "language_info": {
   "codemirror_mode": {
    "name": "ipython",
    "version": 3
   },
   "file_extension": ".py",
   "mimetype": "text/x-python",
   "name": "python",
   "nbconvert_exporter": "python",
   "pygments_lexer": "ipython3",
   "version": "3.9.12"
  }
 },
 "nbformat": 4,
 "nbformat_minor": 5
}
